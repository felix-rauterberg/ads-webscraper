{
 "cells": [
  {
   "cell_type": "markdown",
   "metadata": {},
   "source": [
    "# E: Web Scraping"
   ]
  },
  {
   "cell_type": "code",
   "execution_count": 3,
   "metadata": {},
   "outputs": [],
   "source": [
    "import os\n",
    "from datetime import datetime\n",
    "import pandas as pd\n",
    "import requests"
   ]
  },
  {
   "cell_type": "markdown",
   "metadata": {},
   "source": [
    "## Part 1: Manually scraping sz.de"
   ]
  },
  {
   "cell_type": "code",
   "execution_count": 4,
   "metadata": {},
   "outputs": [],
   "source": [
    "url = \"http://sz.de\""
   ]
  },
  {
   "cell_type": "code",
   "execution_count": 5,
   "metadata": {},
   "outputs": [],
   "source": [
    "response = requests.get(url, allow_redirects=True)"
   ]
  },
  {
   "cell_type": "code",
   "execution_count": 6,
   "metadata": {},
   "outputs": [
    {
     "data": {
      "text/plain": [
       "200"
      ]
     },
     "execution_count": 6,
     "metadata": {},
     "output_type": "execute_result"
    }
   ],
   "source": [
    "response.status_code"
   ]
  },
  {
   "cell_type": "code",
   "execution_count": 7,
   "metadata": {},
   "outputs": [
    {
     "name": "stdout",
     "output_type": "stream",
     "text": [
      "<!doctype html>\n",
      "<html lang=\"de\">\n",
      "\n",
      "<head>\n",
      "\n",
      "    <meta charset=\"utf-8\" />\n",
      "    <title>Aktuelle Nachrichten, Hintergründe und Kommentare - SZ.de</title>\n",
      "    <link rel=\"canonical\" href=\"https://www.sueddeutsche.de\" />\n",
      "    <meta name=\"robots\" content=\"index,follow,noarchive,noodp\" />\n",
      "    <meta name=\"referrer\" content=\"origin-when-cross-origin\" />\n",
      "    <meta name=\"author\" content=\"Süddeutsche.de GmbH, Munich, Germany\" />\n",
      "    <meta name=\"copyright\" content=\"Süddeutsche.de GmbH, Munich, Germany\" />\n",
      "    <meta name=\"email\" content=\"kontakt@sueddeutsche.de\" />\n",
      "    <meta name=\"description\" content=\"News aus Deutschland und aller Welt mit Kommentaren und Hintergrundberichten auf Süddeutsche.de.\" />\n",
      "    <met [...]\n"
     ]
    }
   ],
   "source": [
    "print(response.text[0:700], \"[...]\")"
   ]
  },
  {
   "cell_type": "code",
   "execution_count": 8,
   "metadata": {},
   "outputs": [
    {
     "name": "stdout",
     "output_type": "stream",
     "text": [
      "b'<!doctype html>\\n<html lang=\"de\">\\n\\n<head>\\n\\n    <meta charset=\"utf-8\" />\\n    <title>Aktuelle Nachrichten, Hintergr\\xc3\\xbcnde und Kommentare - SZ.de</title>\\n    <link rel=\"canonical\" href=\"https://www.sueddeutsche.de\" />\\n    <meta name=\"robots\" content=\"index,follow,noarchive,noodp\" />\\n    <meta name=\"referrer\" content=\"origin-when-cross-origin\" />\\n    <meta name=\"author\" content=\"S\\xc3\\xbcddeutsche.de GmbH, Munich, Germany\" />\\n    <meta name=\"copyright\" content=\"S\\xc3\\xbcddeutsche.de GmbH, Munich, Germany\" />\\n    <meta name=\"email\" content=\"kontakt@sueddeutsche.de\" />\\n    <meta name=\"description\" content=\"News aus Deutschland und aller Welt mit Kommentaren und Hintergrundberichten auf S\\xc3\\xbcddeutsche.de.\" />\\n    ' [...]\n"
     ]
    }
   ],
   "source": [
    "print(response.content[0:700], \"[...]\")"
   ]
  },
  {
   "cell_type": "code",
   "execution_count": 9,
   "metadata": {},
   "outputs": [
    {
     "data": {
      "text/plain": [
       "'UTF-8'"
      ]
     },
     "execution_count": 9,
     "metadata": {},
     "output_type": "execute_result"
    }
   ],
   "source": [
    "response.encoding"
   ]
  },
  {
   "cell_type": "code",
   "execution_count": 10,
   "metadata": {},
   "outputs": [
    {
     "data": {
      "text/plain": [
       "'https://www.sueddeutsche.de/'"
      ]
     },
     "execution_count": 10,
     "metadata": {},
     "output_type": "execute_result"
    }
   ],
   "source": [
    "response.url"
   ]
  },
  {
   "cell_type": "code",
   "execution_count": 11,
   "metadata": {},
   "outputs": [
    {
     "data": {
      "text/plain": [
       "datetime.timedelta(microseconds=143191)"
      ]
     },
     "execution_count": 11,
     "metadata": {},
     "output_type": "execute_result"
    }
   ],
   "source": [
    "response.elapsed"
   ]
  },
  {
   "cell_type": "code",
   "execution_count": 12,
   "metadata": {},
   "outputs": [
    {
     "ename": "FileNotFoundError",
     "evalue": "[Errno 2] No such file or directory: 'local\\\\sz.html'",
     "output_type": "error",
     "traceback": [
      "\u001b[1;31m---------------------------------------------------------------------------\u001b[0m",
      "\u001b[1;31mFileNotFoundError\u001b[0m                         Traceback (most recent call last)",
      "\u001b[1;32mc:\\Users\\Felix\\OneDrive\\Dokumente\\Felix\\Studium\\Master\\05. Applied Data Science I\\ads-webscraper\\10-web-scraping.ipynb Cell 12\u001b[0m in \u001b[0;36m<cell line: 1>\u001b[1;34m()\u001b[0m\n\u001b[1;32m----> <a href='vscode-notebook-cell:/c%3A/Users/Felix/OneDrive/Dokumente/Felix/Studium/Master/05.%20Applied%20Data%20Science%20I/ads-webscraper/10-web-scraping.ipynb#X14sZmlsZQ%3D%3D?line=0'>1</a>\u001b[0m \u001b[39mwith\u001b[39;00m \u001b[39mopen\u001b[39;49m(os\u001b[39m.\u001b[39;49mpath\u001b[39m.\u001b[39;49mjoin(\u001b[39m\"\u001b[39;49m\u001b[39mlocal\u001b[39;49m\u001b[39m\"\u001b[39;49m, \u001b[39m\"\u001b[39;49m\u001b[39msz.html\u001b[39;49m\u001b[39m\"\u001b[39;49m), \u001b[39m\"\u001b[39;49m\u001b[39mwb\u001b[39;49m\u001b[39m\"\u001b[39;49m) \u001b[39mas\u001b[39;00m f:\n\u001b[0;32m      <a href='vscode-notebook-cell:/c%3A/Users/Felix/OneDrive/Dokumente/Felix/Studium/Master/05.%20Applied%20Data%20Science%20I/ads-webscraper/10-web-scraping.ipynb#X14sZmlsZQ%3D%3D?line=1'>2</a>\u001b[0m     f\u001b[39m.\u001b[39mwrite(response\u001b[39m.\u001b[39mcontent)\n",
      "\u001b[1;31mFileNotFoundError\u001b[0m: [Errno 2] No such file or directory: 'local\\\\sz.html'"
     ]
    }
   ],
   "source": [
    "with open(os.path.join(\"local\", \"sz.html\"), \"wb\") as f:\n",
    "    f.write(response.content)"
   ]
  },
  {
   "cell_type": "markdown",
   "metadata": {},
   "source": [
    "## Part 2: automatically scraping multiple websites"
   ]
  },
  {
   "cell_type": "code",
   "execution_count": 11,
   "metadata": {},
   "outputs": [],
   "source": [
    "STORAGE_DIR = \"local\""
   ]
  },
  {
   "cell_type": "code",
   "execution_count": 12,
   "metadata": {},
   "outputs": [],
   "source": [
    "# List of news pages to be scraped\n",
    "newspaper_urls = dict(\n",
    "    sz=\"https://www.sueddeutsche.de/\",\n",
    "    zeit=\"https://www.zeit.de/index\",\n",
    "    faz=\"https://www.faz.net/aktuell/\",\n",
    "    ts=\"https://www.tagesspiegel.de/\",\n",
    "    spiegel=\"https://www.spiegel.de/\",\n",
    "    kronen=\"https://www.krone.at/\",\n",
    "    wtf=\"https://asdfkajwlkejwkejklajsdflksadjfasdf.nix\",\n",
    ")"
   ]
  },
  {
   "cell_type": "code",
   "execution_count": 13,
   "metadata": {},
   "outputs": [
    {
     "name": "stdout",
     "output_type": "stream",
     "text": [
      "2021-03-22\n"
     ]
    }
   ],
   "source": [
    "# Current date as string\n",
    "now = datetime.now()\n",
    "now_str = now.strftime(\"%Y-%m-%d\")\n",
    "print(now_str)"
   ]
  },
  {
   "cell_type": "markdown",
   "metadata": {},
   "source": [
    "## Target objects\n",
    "\n",
    "We will create two objects:\n",
    "\n",
    "- `content_dict`: a dict with the HTML content of the pages we scraped\n",
    "- `log_list`: a list with metadata about our requests"
   ]
  },
  {
   "cell_type": "code",
   "execution_count": 14,
   "metadata": {},
   "outputs": [],
   "source": [
    "content_dict = {}\n",
    "text_dict = {}\n",
    "log_list = []\n",
    "failing_list = []"
   ]
  },
  {
   "cell_type": "markdown",
   "metadata": {},
   "source": [
    "## Scraper function"
   ]
  },
  {
   "cell_type": "code",
   "execution_count": 15,
   "metadata": {},
   "outputs": [],
   "source": [
    "def scrape_website(name, url):\n",
    "    \n",
    "    # (1) Run request\n",
    "    response = requests.get(url, allow_redirects=True)\n",
    "    content = response.content\n",
    "    text = response.text\n",
    "    \n",
    "    # (2) File name to store the raw HTML\n",
    "    file_name = os.path.join(\n",
    "        STORAGE_DIR,\n",
    "        f\"{now_str}-{name}.html\",\n",
    "    )\n",
    "    \n",
    "    # (3) Write raw HTML\n",
    "    with open(file_name, \"wb\") as f:\n",
    "        f.write(response.content)\n",
    "        \n",
    "    # (4) Fill content_dict and text_dict\n",
    "    content_dict[name] = response.content\n",
    "    text_dict[name] = response.text\n",
    "    \n",
    "    # (5) Fill log_list\n",
    "    log_info = dict(\n",
    "        name=name,\n",
    "        date=now_str,\n",
    "        file_name=file_name,\n",
    "        status=response.status_code,\n",
    "        url=response.url,\n",
    "        encoding=response.encoding,\n",
    "    )\n",
    "    log_list.append(log_info)"
   ]
  },
  {
   "cell_type": "markdown",
   "metadata": {},
   "source": [
    "## Execute"
   ]
  },
  {
   "cell_type": "code",
   "execution_count": 16,
   "metadata": {},
   "outputs": [],
   "source": [
    "for name, url in newspaper_urls.items():\n",
    "    try:\n",
    "        scrape_website(name, url)\n",
    "    except:\n",
    "        failing_list.append((name, url))"
   ]
  },
  {
   "cell_type": "markdown",
   "metadata": {},
   "source": [
    "## Check"
   ]
  },
  {
   "cell_type": "code",
   "execution_count": 17,
   "metadata": {},
   "outputs": [
    {
     "data": {
      "text/html": [
       "<div>\n",
       "<style scoped>\n",
       "    .dataframe tbody tr th:only-of-type {\n",
       "        vertical-align: middle;\n",
       "    }\n",
       "\n",
       "    .dataframe tbody tr th {\n",
       "        vertical-align: top;\n",
       "    }\n",
       "\n",
       "    .dataframe thead th {\n",
       "        text-align: right;\n",
       "    }\n",
       "</style>\n",
       "<table border=\"1\" class=\"dataframe\">\n",
       "  <thead>\n",
       "    <tr style=\"text-align: right;\">\n",
       "      <th></th>\n",
       "      <th>name</th>\n",
       "      <th>date</th>\n",
       "      <th>file_name</th>\n",
       "      <th>status</th>\n",
       "      <th>url</th>\n",
       "      <th>encoding</th>\n",
       "    </tr>\n",
       "  </thead>\n",
       "  <tbody>\n",
       "    <tr>\n",
       "      <th>0</th>\n",
       "      <td>sz</td>\n",
       "      <td>2021-03-22</td>\n",
       "      <td>local\\2021-03-22-sz.html</td>\n",
       "      <td>200</td>\n",
       "      <td>https://www.sueddeutsche.de/</td>\n",
       "      <td>UTF-8</td>\n",
       "    </tr>\n",
       "    <tr>\n",
       "      <th>1</th>\n",
       "      <td>zeit</td>\n",
       "      <td>2021-03-22</td>\n",
       "      <td>local\\2021-03-22-zeit.html</td>\n",
       "      <td>200</td>\n",
       "      <td>https://www.zeit.de/index</td>\n",
       "      <td>UTF-8</td>\n",
       "    </tr>\n",
       "    <tr>\n",
       "      <th>2</th>\n",
       "      <td>faz</td>\n",
       "      <td>2021-03-22</td>\n",
       "      <td>local\\2021-03-22-faz.html</td>\n",
       "      <td>200</td>\n",
       "      <td>https://www.faz.net/aktuell/</td>\n",
       "      <td>utf-8</td>\n",
       "    </tr>\n",
       "    <tr>\n",
       "      <th>3</th>\n",
       "      <td>ts</td>\n",
       "      <td>2021-03-22</td>\n",
       "      <td>local\\2021-03-22-ts.html</td>\n",
       "      <td>200</td>\n",
       "      <td>https://www.tagesspiegel.de/</td>\n",
       "      <td>utf-8</td>\n",
       "    </tr>\n",
       "    <tr>\n",
       "      <th>4</th>\n",
       "      <td>spiegel</td>\n",
       "      <td>2021-03-22</td>\n",
       "      <td>local\\2021-03-22-spiegel.html</td>\n",
       "      <td>200</td>\n",
       "      <td>https://www.spiegel.de/</td>\n",
       "      <td>utf-8</td>\n",
       "    </tr>\n",
       "    <tr>\n",
       "      <th>5</th>\n",
       "      <td>kronen</td>\n",
       "      <td>2021-03-22</td>\n",
       "      <td>local\\2021-03-22-kronen.html</td>\n",
       "      <td>200</td>\n",
       "      <td>https://www.krone.at/</td>\n",
       "      <td>ISO-8859-1</td>\n",
       "    </tr>\n",
       "  </tbody>\n",
       "</table>\n",
       "</div>"
      ],
      "text/plain": [
       "      name        date                      file_name  status  \\\n",
       "0       sz  2021-03-22       local\\2021-03-22-sz.html     200   \n",
       "1     zeit  2021-03-22     local\\2021-03-22-zeit.html     200   \n",
       "2      faz  2021-03-22      local\\2021-03-22-faz.html     200   \n",
       "3       ts  2021-03-22       local\\2021-03-22-ts.html     200   \n",
       "4  spiegel  2021-03-22  local\\2021-03-22-spiegel.html     200   \n",
       "5   kronen  2021-03-22   local\\2021-03-22-kronen.html     200   \n",
       "\n",
       "                            url    encoding  \n",
       "0  https://www.sueddeutsche.de/       UTF-8  \n",
       "1     https://www.zeit.de/index       UTF-8  \n",
       "2  https://www.faz.net/aktuell/       utf-8  \n",
       "3  https://www.tagesspiegel.de/       utf-8  \n",
       "4       https://www.spiegel.de/       utf-8  \n",
       "5         https://www.krone.at/  ISO-8859-1  "
      ]
     },
     "execution_count": 17,
     "metadata": {},
     "output_type": "execute_result"
    }
   ],
   "source": [
    "log_df = pd.DataFrame(log_list)\n",
    "log_df"
   ]
  },
  {
   "cell_type": "code",
   "execution_count": 18,
   "metadata": {},
   "outputs": [],
   "source": [
    "log_file_name = os.path.join(\n",
    "    STORAGE_DIR,\n",
    "    f\"{now_str}.csv\",\n",
    ")"
   ]
  },
  {
   "cell_type": "code",
   "execution_count": 19,
   "metadata": {},
   "outputs": [],
   "source": [
    "log_df.to_csv(log_file_name)"
   ]
  },
  {
   "cell_type": "code",
   "execution_count": 20,
   "metadata": {},
   "outputs": [
    {
     "data": {
      "text/plain": [
       "[('wtf', 'https://asdfkajwlkejwkejklajsdflksadjfasdf.nix')]"
      ]
     },
     "execution_count": 20,
     "metadata": {},
     "output_type": "execute_result"
    }
   ],
   "source": [
    "failing_list"
   ]
  },
  {
   "cell_type": "code",
   "execution_count": null,
   "metadata": {},
   "outputs": [],
   "source": []
  }
 ],
 "metadata": {
  "kernelspec": {
   "display_name": "Python 3",
   "language": "python",
   "name": "python3"
  },
  "language_info": {
   "codemirror_mode": {
    "name": "ipython",
    "version": 3
   },
   "file_extension": ".py",
   "mimetype": "text/x-python",
   "name": "python",
   "nbconvert_exporter": "python",
   "pygments_lexer": "ipython3",
   "version": "3.10.10"
  }
 },
 "nbformat": 4,
 "nbformat_minor": 4
}
