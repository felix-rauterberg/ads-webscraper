{
 "cells": [
  {
   "cell_type": "markdown",
   "metadata": {},
   "source": [
    "# T: Word count"
   ]
  },
  {
   "cell_type": "code",
   "execution_count": 1,
   "metadata": {},
   "outputs": [],
   "source": [
    "import os\n",
    "from bs4 import BeautifulSoup\n",
    "import requests\n",
    "import pandas as pd\n",
    "import numpy as np"
   ]
  },
  {
   "cell_type": "code",
   "execution_count": 2,
   "metadata": {},
   "outputs": [],
   "source": [
    "sz_file = os.path.join(\n",
    "    \"local\",\n",
    "    \"sz.html\"\n",
    ")"
   ]
  },
  {
   "cell_type": "markdown",
   "metadata": {},
   "source": [
    "## Read file _without_ encoding definition"
   ]
  },
  {
   "cell_type": "code",
   "execution_count": 3,
   "metadata": {},
   "outputs": [],
   "source": [
    "with open(sz_file, \"r\") as f:\n",
    "    text = f.read()"
   ]
  },
  {
   "cell_type": "code",
   "execution_count": 4,
   "metadata": {},
   "outputs": [
    {
     "name": "stdout",
     "output_type": "stream",
     "text": [
      "<!doctype html>\n",
      "<html lang=\"de\">\n",
      "\n",
      "<head>\n",
      "    <meta charset=\"utf-8\" />\n",
      "    <title>Aktuelle Nachrichten, HintergrÃ¼nde und Kommentare - SZ.de</title>\n",
      "    <link rel=\"canonical\" href=\"https://www.sueddeutsche.de\" />\n",
      "    <meta name=\"robots\" content=\"index,follow,noarchive,noodp\" />\n",
      "    <meta name=\"author\" content=\"SÃ¼ddeutsche.de GmbH, Munich, Germany\" />\n",
      "    <meta name=\"copyright\" content=\"SÃ¼ddeutsche.de GmbH, Munich, Germany\" />\n",
      "    <meta name=\"viewport\" content=\"width=1280\" />\n",
      "    <meta name=\"email\" content=\"kontakt@sueddeutsche.de\" />\n",
      "    <meta name=\"description\" content=\"News aus Deutschland und aller Welt mit Kommentaren und Hintergrundberichten auf SÃ¼ddeutsche.de.\" />\n",
      "    <meta name=\"key [...]\n"
     ]
    }
   ],
   "source": [
    "print(text[0:700], \"[...]\")"
   ]
  },
  {
   "cell_type": "markdown",
   "metadata": {},
   "source": [
    "## Read file _with_ encoding definition"
   ]
  },
  {
   "cell_type": "code",
   "execution_count": 5,
   "metadata": {},
   "outputs": [],
   "source": [
    "with open(sz_file, \"r\", encoding=\"utf-8\") as f:\n",
    "    text = f.read()"
   ]
  },
  {
   "cell_type": "code",
   "execution_count": 6,
   "metadata": {},
   "outputs": [
    {
     "name": "stdout",
     "output_type": "stream",
     "text": [
      "<!doctype html>\n",
      "<html lang=\"de\">\n",
      "\n",
      "<head>\n",
      "    <meta charset=\"utf-8\" />\n",
      "    <title>Aktuelle Nachrichten, Hintergründe und Kommentare - SZ.de</title>\n",
      "    <link rel=\"canonical\" href=\"https://www.sueddeutsche.de\" />\n",
      "    <meta name=\"robots\" content=\"index,follow,noarchive,noodp\" />\n",
      "    <meta name=\"author\" content=\"Süddeutsche.de GmbH, Munich, Germany\" />\n",
      "    <meta name=\"copyright\" content=\"Süddeutsche.de GmbH, Munich, Germany\" />\n",
      "    <meta name=\"viewport\" content=\"width=1280\" />\n",
      "    <meta name=\"email\" content=\"kontakt@sueddeutsche.de\" />\n",
      "    <meta name=\"description\" content=\"News aus Deutschland und aller Welt mit Kommentaren und Hintergrundberichten auf Süddeutsche.de.\" />\n",
      "    <meta name=\"keyword [...]\n"
     ]
    }
   ],
   "source": [
    "print(text[0:700], \"[...]\")"
   ]
  },
  {
   "cell_type": "code",
   "execution_count": 7,
   "metadata": {},
   "outputs": [],
   "source": [
    "soup = BeautifulSoup(text, \"html.parser\")"
   ]
  },
  {
   "cell_type": "code",
   "execution_count": 8,
   "metadata": {},
   "outputs": [],
   "source": [
    "text = soup.text"
   ]
  },
  {
   "cell_type": "code",
   "execution_count": 9,
   "metadata": {},
   "outputs": [
    {
     "data": {
      "text/plain": [
       "'\\n\\n\\n\\nAktuelle Nachrichten, Hintergründe und Kommentare - SZ.de\\n\\n\\n\\n\\n\\n\\n\\n\\n\\n\\n\\n\\n\\n\\n\\n\\n\\n\\n\\n\\n\\n\\n\\n\\n\\n\\n\\n\\n\\n\\n\\n\\n\\n\\n\\n\\n\\n\\n\\n\\n\\n\\n\\n\\n\\n\\n\\n\\n\\n\\n\\n\\n\\n\\n\\n\\n\\n\\n\\n\\n\\n\\n\\n\\n\\n\\n\\n\\n\\n\\n\\n\\n\\n\\n\\n\\n\\n\\n\\nMünchen\\n\\n\\n4°\\n\\n\\n\\n\\n\\n\\n\\n\\n\\n\\nNachmittag\\nAbend\\nNacht\\nVormittag\\n\\nMünchen\\nBerlin\\nHamburg\\nKöln\\nFrankfurt\\nStuttgart\\n\\n\\n\\n4°\\n2°\\n0°\\n5°\\n\\n\\n\\n\\n\\n\\n\\n\\nbedeckt\\nbedeckt\\nwolkig\\nwolkig\\n\\n\\n\\n\\n5-Tage-Vorschau\\n\\n\\n\\n\\n\\n\\n\\n\\n\\n\\n\\n\\n\\n\\n\\n\\n\\n    Shop\\n    \\n\\n\\n\\n    Jobs\\n    \\n\\n\\n\\n    Immobilien\\n    \\n\\n\\n\\n    Anzeigen\\n    \\n\\n\\n\\n\\n\\n    Immobilienmarkt\\n    \\n\\n\\n\\n\\n\\n\\nImmobilien und Wohnungen kaufen, mieten, anbieten\\n\\n\\n\\n\\n\\n\\n    Stellenmarkt\\n    \\n\\n\\n\\n\\n\\n\\nStellenangebote für Fach- und Führungskräfte\\n\\n\\n\\n\\n\\n\\n    Kaufdown\\n    \\n\\n\\n\\n\\n\\n\\nDie Auktion, bei der der Preis sinkt\\n\\n\\n\\n\\n\\n\\n    Bildungsmarkt\\n    \\n\\n\\n\\n\\n\\n\\nInformationen und Ange'"
      ]
     },
     "execution_count": 9,
     "metadata": {},
     "output_type": "execute_result"
    }
   ],
   "source": [
    "text[0:700]"
   ]
  },
  {
   "cell_type": "code",
   "execution_count": 10,
   "metadata": {},
   "outputs": [
    {
     "data": {
      "text/plain": [
       "'    Aktuelle Nachrichten, Hintergründe und Kommentare - SZ.de                                                                                München   4°           Nachmittag Abend Nacht Vormittag  München Berlin Hamburg Köln Frankfurt Stuttgart    4° 2° 0° 5°         bedeckt bedeckt wolkig wolkig     5-Tage-Vorschau                      Shop             Jobs             Immobilien             Anzeigen               Immobilienmarkt            Immobilien und Wohnungen kaufen, mieten, anbieten           Stellenmarkt            Stellenangebote für Fach- und Führungskräfte           Kaufdown            Die Auktion, bei der der Preis sinkt           Bildungsmarkt            Informationen und Ange'"
      ]
     },
     "execution_count": 10,
     "metadata": {},
     "output_type": "execute_result"
    }
   ],
   "source": [
    "text = text.replace(\"\\n\", \" \")\n",
    "text[0:700]"
   ]
  },
  {
   "cell_type": "code",
   "execution_count": 11,
   "metadata": {},
   "outputs": [
    {
     "data": {
      "text/plain": [
       "'    aktuelle nachrichten, hintergründe und kommentare - sz.de                                                                                münchen   4°           nachmittag abend nacht vormittag  münchen berlin hamburg köln frankfurt stuttgart    4° 2° 0° 5°         bedeckt bedeckt wolkig wolkig     5-tage-vorschau                      shop             jobs             immobilien             anzeigen               immobilienmarkt            immobilien und wohnungen kaufen, mieten, anbieten           stellenmarkt            stellenangebote für fach- und führungskräfte           kaufdown            die auktion, bei der der preis sinkt           bildungsmarkt            informationen und ange'"
      ]
     },
     "execution_count": 11,
     "metadata": {},
     "output_type": "execute_result"
    }
   ],
   "source": [
    "text = text.lower()\n",
    "text[0:700]"
   ]
  },
  {
   "cell_type": "code",
   "execution_count": 12,
   "metadata": {},
   "outputs": [
    {
     "data": {
      "text/plain": [
       "['',\n",
       " '',\n",
       " '',\n",
       " '',\n",
       " 'aktuelle',\n",
       " 'nachrichten,',\n",
       " 'hintergründe',\n",
       " 'und',\n",
       " 'kommentare',\n",
       " '-',\n",
       " 'sz.de',\n",
       " '',\n",
       " '',\n",
       " '',\n",
       " '',\n",
       " '',\n",
       " '',\n",
       " '',\n",
       " '',\n",
       " '']"
      ]
     },
     "execution_count": 12,
     "metadata": {},
     "output_type": "execute_result"
    }
   ],
   "source": [
    "items = text.split(\" \")\n",
    "items[0:20]"
   ]
  },
  {
   "cell_type": "code",
   "execution_count": 13,
   "metadata": {},
   "outputs": [
    {
     "data": {
      "text/plain": [
       "['aktuelle',\n",
       " 'nachrichten,',\n",
       " 'hintergründe',\n",
       " 'und',\n",
       " 'kommentare',\n",
       " 'sz.de',\n",
       " 'münchen',\n",
       " '4°',\n",
       " 'nachmittag',\n",
       " 'abend',\n",
       " 'nacht',\n",
       " 'vormittag',\n",
       " 'münchen',\n",
       " 'berlin',\n",
       " 'hamburg',\n",
       " 'köln',\n",
       " 'frankfurt',\n",
       " 'stuttgart',\n",
       " '4°',\n",
       " '2°']"
      ]
     },
     "execution_count": 13,
     "metadata": {},
     "output_type": "execute_result"
    }
   ],
   "source": [
    "items = [i for i in items if len(i) > 1]\n",
    "items[0:20]"
   ]
  },
  {
   "cell_type": "code",
   "execution_count": 14,
   "metadata": {},
   "outputs": [
    {
     "data": {
      "text/plain": [
       "die          161\n",
       "der          154\n",
       "und          126\n",
       "von          106\n",
       "in           100\n",
       "bilder        82\n",
       "das           65\n",
       "sz            59\n",
       "im            55\n",
       "ist           50\n",
       "für           50\n",
       "sie           50\n",
       "mit           49\n",
       "ein           48\n",
       "des           43\n",
       "gutschein     40\n",
       "auf           35\n",
       "zu            34\n",
       "den           34\n",
       "mehr          34\n",
       "dtype: int64"
      ]
     },
     "execution_count": 14,
     "metadata": {},
     "output_type": "execute_result"
    }
   ],
   "source": [
    "pd.value_counts(items)[0:20]"
   ]
  },
  {
   "cell_type": "markdown",
   "metadata": {},
   "source": [
    "## Import stop words"
   ]
  },
  {
   "cell_type": "code",
   "execution_count": 15,
   "metadata": {},
   "outputs": [],
   "source": [
    "stopwords_url = \"https://raw.githubusercontent.com/solariz/german_stopwords/master/german_stopwords_full.txt\""
   ]
  },
  {
   "cell_type": "code",
   "execution_count": 16,
   "metadata": {},
   "outputs": [
    {
     "name": "stdout",
     "output_type": "stream",
     "text": [
      "; GERMAN STOPWORDS\n",
      "; Zusammmengetragen von Marco Götze, Steffen Geyer\n",
      "; LAST UPDATE 12/2016\n",
      "; Web Stopwords, more information at Source Link below!\n",
      "; www.solariz.de\n",
      "; Source and more Information: https://solariz.de/de/downloads/6/german-enhanced-stopwords.htm\n",
      "; ####\n",
      "; Link-Ware; If you use this List somehow please give me a Link to URL mentioned above! Thanks\n",
      "; ####\n",
      "ab\n",
      "aber\n",
      "abermaliges\n",
      "abermals\n",
      "abgerufen\n",
      "abgerufene\n",
      "abgerufener\n",
      "abgerufenes\n",
      "abgesehen\n",
      "acht\n",
      "aehnlich\n",
      "aehnliche\n",
      "aehnlichem\n",
      "aehnlichen\n",
      "aehnlicher\n",
      "aehnliches\n",
      "aehnlichste\n",
      "aehnlichstem\n",
      "aehnlichsten\n",
      "aehnlichster\n",
      "aehnlichstes\n",
      "aeusserst\n",
      "aeusserste\n",
      "aeusserstem\n",
      "aeussersten\n",
      "aeusserster\n",
      "aeusserstes\n",
      "ähnlich\n",
      "ähnliche\n",
      "ähnlichem\n",
      "ähnlichen\n",
      "ähnlicher [...]\n"
     ]
    }
   ],
   "source": [
    "stopwords = requests.get(stopwords_url, allow_redirects=True)\n",
    "stopwords_text = stopwords.text\n",
    "print(stopwords_text[0:700], \"[...]\")"
   ]
  },
  {
   "cell_type": "code",
   "execution_count": 17,
   "metadata": {},
   "outputs": [
    {
     "data": {
      "text/plain": [
       "['ab',\n",
       " 'aber',\n",
       " 'abermaliges',\n",
       " 'abermals',\n",
       " 'abgerufen',\n",
       " 'abgerufene',\n",
       " 'abgerufener',\n",
       " 'abgerufenes',\n",
       " 'abgesehen',\n",
       " 'acht',\n",
       " 'aehnlich',\n",
       " 'aehnliche',\n",
       " 'aehnlichem',\n",
       " 'aehnlichen',\n",
       " 'aehnlicher',\n",
       " 'aehnliches',\n",
       " 'aehnlichste',\n",
       " 'aehnlichstem',\n",
       " 'aehnlichsten',\n",
       " 'aehnlichster']"
      ]
     },
     "execution_count": 17,
     "metadata": {},
     "output_type": "execute_result"
    }
   ],
   "source": [
    "stopwords_list = stopwords.text.split(\"\\n\")[9:]\n",
    "stopwords_list[0:20]"
   ]
  },
  {
   "cell_type": "markdown",
   "metadata": {},
   "source": [
    "## Using stop words"
   ]
  },
  {
   "cell_type": "code",
   "execution_count": 18,
   "metadata": {},
   "outputs": [
    {
     "data": {
      "text/plain": [
       "['aktuelle',\n",
       " 'nachrichten,',\n",
       " 'hintergründe',\n",
       " 'kommentare',\n",
       " 'sz.de',\n",
       " 'münchen',\n",
       " '4°',\n",
       " 'nachmittag',\n",
       " 'abend',\n",
       " 'vormittag',\n",
       " 'münchen',\n",
       " 'berlin',\n",
       " 'hamburg',\n",
       " 'köln',\n",
       " 'frankfurt',\n",
       " 'stuttgart',\n",
       " '4°',\n",
       " '2°',\n",
       " '0°',\n",
       " '5°']"
      ]
     },
     "execution_count": 18,
     "metadata": {},
     "output_type": "execute_result"
    }
   ],
   "source": [
    "items = [i for i in items if i not in stopwords_list]\n",
    "items[0:20]"
   ]
  },
  {
   "cell_type": "code",
   "execution_count": 19,
   "metadata": {},
   "outputs": [
    {
     "data": {
      "text/plain": [
       "bilder             82\n",
       "sz                 59\n",
       "gutschein          40\n",
       "plus               33\n",
       "momentaufnahmen    22\n",
       "artikel            17\n",
       "themen             16\n",
       "jahren             16\n",
       "ressort            15\n",
       "bayern             15\n",
       "test               15\n",
       "deutschland        14\n",
       "münchen            14\n",
       "wissen             14\n",
       "dezember           13\n",
       "2020               13\n",
       "menschen           12\n",
       "gutscheine         12\n",
       "fc                 10\n",
       "adventsquiz        10\n",
       "dtype: int64"
      ]
     },
     "execution_count": 19,
     "metadata": {},
     "output_type": "execute_result"
    }
   ],
   "source": [
    "pd.value_counts(items)[0:20]"
   ]
  },
  {
   "cell_type": "markdown",
   "metadata": {},
   "source": [
    "## Kurzfassung"
   ]
  },
  {
   "cell_type": "code",
   "execution_count": 20,
   "metadata": {},
   "outputs": [
    {
     "data": {
      "text/plain": [
       "['ab',\n",
       " 'aber',\n",
       " 'abermaliges',\n",
       " 'abermals',\n",
       " 'abgerufen',\n",
       " 'abgerufene',\n",
       " 'abgerufener',\n",
       " 'abgerufenes',\n",
       " 'abgesehen',\n",
       " 'acht',\n",
       " 'aehnlich',\n",
       " 'aehnliche',\n",
       " 'aehnlichem',\n",
       " 'aehnlichen',\n",
       " 'aehnlicher',\n",
       " 'aehnliches',\n",
       " 'aehnlichste',\n",
       " 'aehnlichstem',\n",
       " 'aehnlichsten',\n",
       " 'aehnlichster']"
      ]
     },
     "execution_count": 20,
     "metadata": {},
     "output_type": "execute_result"
    }
   ],
   "source": [
    "stopwords_url = \"https://raw.githubusercontent.com/solariz/german_stopwords/master/german_stopwords_full.txt\"\n",
    "stopwords_list = requests.get(stopwords_url, allow_redirects=True).text.split(\"\\n\")[9:]\n",
    "stopwords_list[0:20]"
   ]
  },
  {
   "cell_type": "code",
   "execution_count": 21,
   "metadata": {},
   "outputs": [
    {
     "data": {
      "text/plain": [
       "bilder               82\n",
       "sz                   59\n",
       "gutschein            40\n",
       "plus                 33\n",
       "momentaufnahmen      22\n",
       "                     ..\n",
       "gianna                1\n",
       "aromatisch,           1\n",
       "rassistische          1\n",
       "mieten,               1\n",
       "linsenpfannkuchen     1\n",
       "Length: 2559, dtype: int64"
      ]
     },
     "execution_count": 21,
     "metadata": {},
     "output_type": "execute_result"
    }
   ],
   "source": [
    "def process_html(text):\n",
    "    items = text.replace(\"\\n\", \" \").lower().split(\" \")\n",
    "    items = [i for i in items if len(i) > 1 and i not in stopwords_list]\n",
    "    return items\n",
    "pd.value_counts(process_html(text))"
   ]
  },
  {
   "cell_type": "code",
   "execution_count": null,
   "metadata": {},
   "outputs": [],
   "source": []
  }
 ],
 "metadata": {
  "kernelspec": {
   "display_name": "Python 3",
   "language": "python",
   "name": "python3"
  },
  "language_info": {
   "codemirror_mode": {
    "name": "ipython",
    "version": 3
   },
   "file_extension": ".py",
   "mimetype": "text/x-python",
   "name": "python",
   "nbconvert_exporter": "python",
   "pygments_lexer": "ipython3",
   "version": "3.7.3"
  }
 },
 "nbformat": 4,
 "nbformat_minor": 4
}
